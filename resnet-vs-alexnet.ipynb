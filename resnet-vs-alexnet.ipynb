{
 "cells": [
  {
   "cell_type": "code",
   "execution_count": 1,
   "metadata": {
    "_cell_guid": "b1076dfc-b9ad-4769-8c92-a6c4dae69d19",
    "_uuid": "8f2839f25d086af736a60e9eeb907d3b93b6e0e5",
    "execution": {
     "iopub.execute_input": "2024-08-07T19:23:06.448606Z",
     "iopub.status.busy": "2024-08-07T19:23:06.447847Z",
     "iopub.status.idle": "2024-08-07T19:23:07.548553Z",
     "shell.execute_reply": "2024-08-07T19:23:07.547401Z",
     "shell.execute_reply.started": "2024-08-07T19:23:06.448572Z"
    },
    "trusted": true
   },
   "outputs": [
    {
     "name": "stdout",
     "output_type": "stream",
     "text": [
      "/kaggle/input/genre-100x100/test_data_genre.pkl\n",
      "/kaggle/input/genre-100x100/train_data_genre.pkl\n",
      "/kaggle/input/genre-100x100/valid_data_genre.pkl\n",
      "/kaggle/input/best4-artists/train_data_artist_best4.pkl\n",
      "/kaggle/input/best4-artists/valid_data_artist_best4.pkl\n",
      "/kaggle/input/best4-artists/test_data_artist_best4.pkl\n",
      "/kaggle/input/artists/test_data_artist_reduced224.pkl\n",
      "/kaggle/input/artists/train_data_artist_reduced224.pkl\n",
      "/kaggle/input/artists/valid_data_artist_reduced224.pkl\n",
      "/kaggle/input/alexnet/pytorch/default/1/_model_7.pt\n"
     ]
    }
   ],
   "source": [
    "# This Python 3 environment comes with many helpful analytics libraries installed\n",
    "# It is defined by the kaggle/python Docker image: https://github.com/kaggle/docker-python\n",
    "# For example, here's several helpful packages to load\n",
    "\n",
    "import numpy as np # linear algebra\n",
    "import pandas as pd # data processing, CSV file I/O (e.g. pd.read_csv)\n",
    "\n",
    "# Input data files are available in the read-only \"../input/\" directory\n",
    "# For example, running this (by clicking run or pressing Shift+Enter) will list all files under the input directory\n",
    "\n",
    "import os\n",
    "for dirname, _, filenames in os.walk('/kaggle/input'):\n",
    "    for filename in filenames:\n",
    "        print(os.path.join(dirname, filename))\n",
    "\n",
    "os.environ['CUDA_LAUNCH_BLOCKING'] = '1'\n",
    "os.environ['TORCH_USE_CUDA_DSA'] = '1' \n",
    "# You can write up to 20GB to the current directory (/kaggle/working/) that gets preserved as output when you create a version using \"Save & Run All\" \n",
    "# You can also write temporary files to /kaggle/temp/, but they won't be saved outside of the current session"
   ]
  },
  {
   "cell_type": "code",
   "execution_count": 2,
   "metadata": {
    "execution": {
     "iopub.execute_input": "2024-08-07T19:23:54.653157Z",
     "iopub.status.busy": "2024-08-07T19:23:54.652630Z",
     "iopub.status.idle": "2024-08-07T19:24:13.915779Z",
     "shell.execute_reply": "2024-08-07T19:24:13.914634Z",
     "shell.execute_reply.started": "2024-08-07T19:23:54.653124Z"
    },
    "trusted": true
   },
   "outputs": [
    {
     "name": "stdout",
     "output_type": "stream",
     "text": [
      "Collecting torchsummary\n",
      "  Downloading torchsummary-1.5.1-py3-none-any.whl.metadata (296 bytes)\n",
      "Downloading torchsummary-1.5.1-py3-none-any.whl (2.8 kB)\n",
      "Installing collected packages: torchsummary\n",
      "Successfully installed torchsummary-1.5.1\n"
     ]
    }
   ],
   "source": [
    "import torch, torchvision\n",
    "from torchvision import datasets, models, transforms\n",
    "import torch.nn as nn\n",
    "import torch.optim as optim\n",
    "from torch.utils.data import DataLoader\n",
    "import time\n",
    "!pip install torchsummary\n",
    "from torchsummary import summary\n",
    "\n",
    "import numpy as np\n",
    "import matplotlib.pyplot as plt\n",
    "import os\n",
    "\n",
    "from PIL import Image\n",
    "from torch.utils.data import DataLoader, IterableDataset\n",
    "from torchvision import transforms\n",
    "\n",
    "import copy\n"
   ]
  },
  {
   "cell_type": "code",
   "execution_count": 3,
   "metadata": {
    "execution": {
     "iopub.execute_input": "2024-08-07T19:42:26.075128Z",
     "iopub.status.busy": "2024-08-07T19:42:26.073578Z",
     "iopub.status.idle": "2024-08-07T19:42:26.085189Z",
     "shell.execute_reply": "2024-08-07T19:42:26.084015Z",
     "shell.execute_reply.started": "2024-08-07T19:42:26.075086Z"
    },
    "trusted": true
   },
   "outputs": [],
   "source": [
    "class StreamWikiArtDataset(IterableDataset):\n",
    "\n",
    "        def __init__(self, dataset, indices, class_to_idx, transform=None):\n",
    "            self.dataset = dataset\n",
    "            self.indices = indices\n",
    "            self.transform = transform\n",
    "            # self.length = len(indices)\n",
    "            self.class_to_idx = class_to_idx\n",
    "            self.classes = set()\n",
    "\n",
    "\n",
    "\n",
    "        def __len__(self):\n",
    "            return len(self.indices)\n",
    "\n",
    "        def __iter__(self):\n",
    "            print(\"Starting iteration...\")\n",
    "            dataset_iter = iter(self.dataset)\n",
    "\n",
    "\n",
    "            for idx, item in enumerate(dataset_iter):\n",
    "\n",
    "                if idx not in self.indices:\n",
    "                  continue\n",
    "\n",
    "                image = item['image']\n",
    "                label = self.class_to_idx[item['artist']]\n",
    "                self.classes.add(label)\n",
    "\n",
    "                if self.transform:\n",
    "                    image = self.transform(image)\n",
    "                yield image, label\n",
    "\n",
    "\n",
    "        def get_classes(self):\n",
    "            return list(self.classes)\n"
   ]
  },
  {
   "cell_type": "code",
   "execution_count": 4,
   "metadata": {
    "execution": {
     "iopub.execute_input": "2024-08-07T19:42:30.192129Z",
     "iopub.status.busy": "2024-08-07T19:42:30.191727Z",
     "iopub.status.idle": "2024-08-07T19:42:30.211931Z",
     "shell.execute_reply": "2024-08-07T19:42:30.210623Z",
     "shell.execute_reply.started": "2024-08-07T19:42:30.192096Z"
    },
    "trusted": true
   },
   "outputs": [],
   "source": [
    "def train_and_validate(model, loss_criterion, optimizer, epochs=25):\n",
    "    '''\n",
    "    Function to train and validate\n",
    "    Parameters\n",
    "        :param model: Model to train and validate\n",
    "        :param loss_criterion: Loss Criterion to minimize\n",
    "        :param optimizer: Optimizer for computing gradients\n",
    "        :param epochs: Number of epochs (default=25)\n",
    "\n",
    "    Returns\n",
    "        model: Trained Model with best validation accuracy\n",
    "        history: (dict object): Having training loss, accuracy and validation loss, accuracy\n",
    "    '''\n",
    "\n",
    "    start = time.time()\n",
    "    history = []\n",
    "    best_loss = 100000.0\n",
    "    best_epoch = None\n",
    "\n",
    "    for epoch in range(epochs):\n",
    "        epoch_start = time.time()\n",
    "        print(\"Epoch: {}/{}\".format(epoch+1, epochs))\n",
    "\n",
    "        # Set to training mode\n",
    "        model.train()\n",
    "\n",
    "        # Loss and Accuracy within the epoch\n",
    "        train_loss = 0.0\n",
    "        train_acc = 0.0\n",
    "\n",
    "        valid_loss = 0.0\n",
    "        valid_acc = 0.0\n",
    "\n",
    "        for i, (inputs, labels) in enumerate(train_loader):\n",
    "\n",
    "            inputs = inputs.to(device)\n",
    "#             labels = labels - 1\n",
    "#             assert labels.min().item() >= 0 and labels.max().item() < num_classes, \"Adjusted labels are out of range\"\n",
    "            \n",
    "            labels = labels.to(device)\n",
    "#             print(\"Batch Labels:\", labels)\n",
    "            \n",
    "            # Clean existing gradients\n",
    "            optimizer.zero_grad()\n",
    "\n",
    "            # Forward pass - compute outputs on input data using the model\n",
    "            outputs = model(inputs)\n",
    "\n",
    "            # Compute loss\n",
    "            loss = loss_criterion(outputs, labels)\n",
    "\n",
    "            # Backpropagate the gradients\n",
    "            loss.backward()\n",
    "\n",
    "            # Update the parameters\n",
    "            optimizer.step()\n",
    "\n",
    "            # Compute the total loss for the batch and add it to train_loss\n",
    "            train_loss += loss.item() * inputs.size(0)\n",
    "\n",
    "            # Compute the accuracy\n",
    "            ret, predictions = torch.max(outputs.data, 1)\n",
    "            correct_counts = predictions.eq(labels.data.view_as(predictions))\n",
    "\n",
    "            # Convert correct_counts to float and then compute the mean\n",
    "            acc = torch.mean(correct_counts.type(torch.FloatTensor))\n",
    "\n",
    "            # Compute total accuracy in the whole batch and add to train_acc\n",
    "            train_acc += acc.item() * inputs.size(0)\n",
    "\n",
    "            #print(\"Batch number: {:03d}, Training: Loss: {:.4f}, Accuracy: {:.4f}\".format(i, loss.item(), acc.item()))\n",
    "\n",
    "\n",
    "        # Validation - No gradient tracking needed\n",
    "        with torch.no_grad():\n",
    "\n",
    "            # Set to evaluation mode\n",
    "            model.eval()\n",
    "\n",
    "            # Validation loop\n",
    "            for j, (inputs, labels) in enumerate(valid_loader):\n",
    "                inputs = inputs.to(device)\n",
    "#                 labels = labels - 1\n",
    "#                 assert labels.min().item() >= 0 and labels.max().item() < num_classes, \"Adjusted labels are out of range\"\n",
    "\n",
    "                labels = labels.to(device)\n",
    "\n",
    "                # Forward pass - compute outputs on input data using the model\n",
    "                outputs = model(inputs)\n",
    "\n",
    "                # Compute loss\n",
    "                loss = loss_criterion(outputs, labels)\n",
    "\n",
    "                # Compute the total loss for the batch and add it to valid_loss\n",
    "                valid_loss += loss.item() * inputs.size(0)\n",
    "\n",
    "                # Calculate validation accuracy\n",
    "                ret, predictions = torch.max(outputs.data, 1)\n",
    "                correct_counts = predictions.eq(labels.data.view_as(predictions))\n",
    "\n",
    "                # Convert correct_counts to float and then compute the mean\n",
    "                acc = torch.mean(correct_counts.type(torch.FloatTensor))\n",
    "\n",
    "                # Compute total accuracy in the whole batch and add to valid_acc\n",
    "                valid_acc += acc.item() * inputs.size(0)\n",
    "\n",
    "                #print(\"Validation Batch number: {:03d}, Validation: Loss: {:.4f}, Accuracy: {:.4f}\".format(j, loss.item(), acc.item()))\n",
    "        if valid_loss < best_loss:\n",
    "            best_loss = valid_loss\n",
    "            best_epoch = epoch\n",
    "\n",
    "        # Find average training loss and training accuracy\n",
    "        avg_train_loss = train_loss/train_data_size\n",
    "        avg_train_acc = train_acc/train_data_size\n",
    "\n",
    "        # Find average training loss and training accuracy\n",
    "        avg_valid_loss = valid_loss/valid_data_size\n",
    "        avg_valid_acc = valid_acc/valid_data_size\n",
    "\n",
    "        history.append([avg_train_loss, avg_valid_loss, avg_train_acc, avg_valid_acc])\n",
    "\n",
    "        epoch_end = time.time()\n",
    "\n",
    "        print(\"Epoch : {:03d}, Training: Loss - {:.4f}, Accuracy - {:.4f}%, \\n\\t\\tValidation : Loss - {:.4f}, Accuracy - {:.4f}%, Time: {:.4f}s\".format(epoch, avg_train_loss, avg_train_acc*100, avg_valid_loss, avg_valid_acc*100, epoch_end-epoch_start))\n",
    "\n",
    "        # Save if the model has best accuracy till now\n",
    "        torch.save(model, '_model_'+str(epoch)+'.pt')\n",
    "\n",
    "    return model, history, best_epoch"
   ]
  },
  {
   "cell_type": "code",
   "execution_count": 5,
   "metadata": {
    "execution": {
     "iopub.execute_input": "2024-08-07T19:42:33.206033Z",
     "iopub.status.busy": "2024-08-07T19:42:33.205375Z",
     "iopub.status.idle": "2024-08-07T19:42:33.215341Z",
     "shell.execute_reply": "2024-08-07T19:42:33.214170Z",
     "shell.execute_reply.started": "2024-08-07T19:42:33.205997Z"
    },
    "trusted": true
   },
   "outputs": [],
   "source": [
    "# function to predict images and display the accuracy\n",
    "def visualize_predictions(model, dataset,class_names):\n",
    "    labels = []\n",
    "    predictions = []\n",
    "    acc = 0\n",
    "    was_training = model.training\n",
    "    model.eval()\n",
    "    with torch.no_grad():\n",
    "        dataset_iter = iter(dataset)\n",
    "        for image, label in dataset_iter:\n",
    "            image = image.unsqueeze(0)  # Add batch dimension\n",
    "            image = image.to(device)\n",
    "            output = model(image)\n",
    "            _, preds = torch.max(output, 1)\n",
    "            if class_names[label] == class_names[preds.item()]:\n",
    "                acc += 1\n",
    "            labels.append(class_names[label])\n",
    "            predictions.append(class_names[preds.item()])\n",
    "    print('Test Accuracy: {:.4f}'.format(acc/len(dataset)))\n",
    "    model.train(mode=was_training)\n",
    "    return labels, predictions"
   ]
  },
  {
   "cell_type": "code",
   "execution_count": null,
   "metadata": {},
   "outputs": [],
   "source": []
  },
  {
   "cell_type": "code",
   "execution_count": 6,
   "metadata": {
    "execution": {
     "iopub.execute_input": "2024-08-07T19:42:37.402849Z",
     "iopub.status.busy": "2024-08-07T19:42:37.402436Z",
     "iopub.status.idle": "2024-08-07T19:42:38.389640Z",
     "shell.execute_reply": "2024-08-07T19:42:38.388776Z",
     "shell.execute_reply.started": "2024-08-07T19:42:37.402817Z"
    },
    "trusted": true
   },
   "outputs": [],
   "source": [
    "from torch.utils.data import DataLoader, IterableDataset\n",
    "from torchvision import transforms\n",
    "import pickle\n",
    "\n",
    "# !pip install datasets\n",
    "\n",
    "# Load the dataset objects\n",
    "with open('/kaggle/input/best4-artists/train_data_artist_best4.pkl', 'rb') as f:\n",
    "    train_data = pickle.load(f)\n",
    "\n",
    "with open('/kaggle/input/best4-artists/valid_data_artist_best4.pkl', 'rb') as f:\n",
    "    valid_data = pickle.load(f)\n",
    "\n",
    "with open('/kaggle/input/best4-artists/test_data_artist_best4.pkl', 'rb') as f:\n",
    "    test_data = pickle.load(f)\n",
    "# # Load the dataset\n",
    "# train_data = torch.load('/content/save_dataset.pth')\n",
    "\n",
    "# # Create DataLoader objects again\n",
    "train_loader = DataLoader(train_data, batch_size=16, shuffle=False)\n",
    "valid_loader = DataLoader(valid_data, batch_size=16, shuffle=False)\n",
    "test_loader = DataLoader(test_data, batch_size=16, shuffle=False)"
   ]
  },
  {
   "cell_type": "code",
   "execution_count": 7,
   "metadata": {
    "execution": {
     "iopub.execute_input": "2024-08-07T19:42:40.811314Z",
     "iopub.status.busy": "2024-08-07T19:42:40.810664Z",
     "iopub.status.idle": "2024-08-07T19:42:40.817770Z",
     "shell.execute_reply": "2024-08-07T19:42:40.816667Z",
     "shell.execute_reply.started": "2024-08-07T19:42:40.811282Z"
    },
    "trusted": true
   },
   "outputs": [
    {
     "name": "stdout",
     "output_type": "stream",
     "text": [
      "Train data size: 3865\n",
      "Validation data size: 1288\n",
      "Test data size: 1289\n"
     ]
    }
   ],
   "source": [
    "# Calculate the sizes of the datasets\n",
    "train_data_size = len(train_data)\n",
    "valid_data_size = len(valid_data)\n",
    "test_data_size = len(test_data)\n",
    "\n",
    "print(\"Train data size:\", train_data_size)\n",
    "print(\"Validation data size:\", valid_data_size)\n",
    "print(\"Test data size:\", test_data_size)"
   ]
  },
  {
   "cell_type": "code",
   "execution_count": 10,
   "metadata": {
    "execution": {
     "iopub.execute_input": "2024-08-07T19:46:35.850883Z",
     "iopub.status.busy": "2024-08-07T19:46:35.850449Z",
     "iopub.status.idle": "2024-08-07T19:46:37.968709Z",
     "shell.execute_reply": "2024-08-07T19:46:37.967760Z",
     "shell.execute_reply.started": "2024-08-07T19:46:35.850840Z"
    },
    "trusted": true
   },
   "outputs": [],
   "source": [
    "model = torch.load(\"/kaggle/input/alexnet/pytorch/default/1/_model_7.pt\")"
   ]
  },
  {
   "cell_type": "code",
   "execution_count": 11,
   "metadata": {
    "execution": {
     "iopub.execute_input": "2024-08-07T19:46:43.979858Z",
     "iopub.status.busy": "2024-08-07T19:46:43.979467Z",
     "iopub.status.idle": "2024-08-07T19:46:43.988427Z",
     "shell.execute_reply": "2024-08-07T19:46:43.987122Z",
     "shell.execute_reply.started": "2024-08-07T19:46:43.979830Z"
    },
    "trusted": true
   },
   "outputs": [
    {
     "data": {
      "text/plain": [
       "AlexNet(\n",
       "  (features): Sequential(\n",
       "    (0): Conv2d(3, 64, kernel_size=(11, 11), stride=(4, 4), padding=(2, 2))\n",
       "    (1): ReLU(inplace=True)\n",
       "    (2): MaxPool2d(kernel_size=3, stride=2, padding=0, dilation=1, ceil_mode=False)\n",
       "    (3): Conv2d(64, 192, kernel_size=(5, 5), stride=(1, 1), padding=(2, 2))\n",
       "    (4): ReLU(inplace=True)\n",
       "    (5): MaxPool2d(kernel_size=3, stride=2, padding=0, dilation=1, ceil_mode=False)\n",
       "    (6): Conv2d(192, 384, kernel_size=(3, 3), stride=(1, 1), padding=(1, 1))\n",
       "    (7): ReLU(inplace=True)\n",
       "    (8): Conv2d(384, 256, kernel_size=(3, 3), stride=(1, 1), padding=(1, 1))\n",
       "    (9): ReLU(inplace=True)\n",
       "    (10): Conv2d(256, 256, kernel_size=(3, 3), stride=(1, 1), padding=(1, 1))\n",
       "    (11): ReLU(inplace=True)\n",
       "    (12): MaxPool2d(kernel_size=3, stride=2, padding=0, dilation=1, ceil_mode=False)\n",
       "  )\n",
       "  (avgpool): AdaptiveAvgPool2d(output_size=(6, 6))\n",
       "  (classifier): Sequential(\n",
       "    (0): Dropout(p=0.5, inplace=False)\n",
       "    (1): Linear(in_features=9216, out_features=4096, bias=True)\n",
       "    (2): ReLU(inplace=True)\n",
       "    (3): Dropout(p=0.5, inplace=False)\n",
       "    (4): Linear(in_features=4096, out_features=4096, bias=True)\n",
       "    (5): ReLU(inplace=True)\n",
       "    (6): Sequential(\n",
       "      (0): Linear(in_features=4096, out_features=256, bias=True)\n",
       "      (1): ReLU()\n",
       "      (2): Dropout(p=0.3, inplace=False)\n",
       "      (3): Linear(in_features=256, out_features=4, bias=True)\n",
       "      (4): LogSoftmax(dim=1)\n",
       "    )\n",
       "  )\n",
       ")"
      ]
     },
     "execution_count": 11,
     "metadata": {},
     "output_type": "execute_result"
    }
   ],
   "source": [
    "model"
   ]
  },
  {
   "cell_type": "code",
   "execution_count": null,
   "metadata": {
    "execution": {
     "iopub.execute_input": "2024-06-16T07:47:15.171026Z",
     "iopub.status.busy": "2024-06-16T07:47:15.170664Z",
     "iopub.status.idle": "2024-06-16T07:47:17.573028Z",
     "shell.execute_reply": "2024-06-16T07:47:17.572047Z",
     "shell.execute_reply.started": "2024-06-16T07:47:15.170998Z"
    },
    "trusted": true
   },
   "outputs": [],
   "source": [
    "device = torch.device(\"cuda:0\" if torch.cuda.is_available() else \"cpu\")\n",
    "print(\"Using device:\", device)\n",
    "\n",
    "# Load pretrained ResNet50 Model\n",
    "resnet50 = models.resnet50(pretrained=True)\n",
    "resnet50 = resnet50.to(device)\n",
    "\n",
    "# Freeze model parameters\n",
    "for param in resnet50.parameters():\n",
    "    param.requires_grad = False\n",
    "\n",
    "\n",
    "# Change the final layer of resnet16 Model for Transfer Learning\n",
    "fc_inputs = resnet50.fc.in_features\n",
    "\n",
    "num_classes = 4\n",
    "# resnet16.fc = torch.nn.Linear(fc_inputs, len(class_names))\n",
    "resnet50.fc = nn.Sequential(\n",
    "    nn.Linear(fc_inputs, 256),\n",
    "    nn.ReLU(),\n",
    "    nn.Dropout(0.3),\n",
    "    nn.Linear(256, num_classes), # Since 10 possible outputs\n",
    "    nn.LogSoftmax(dim=1) # For using NLLLoss()\n",
    ")\n",
    "\n",
    "\n",
    "\n",
    "# Convert model to be used on GPU\n",
    "resnet50 = resnet50.to(device)\n",
    "\n",
    "# Define Optimizer and Loss Function\n",
    "loss_func = nn.NLLLoss()\n",
    "optimizer = optim.Adam(resnet50.parameters(), lr = 0.00001)\n",
    "\n",
    "# model summary\n",
    "summary(resnet50, (3, 224, 224), 32)"
   ]
  },
  {
   "cell_type": "code",
   "execution_count": null,
   "metadata": {
    "execution": {
     "iopub.execute_input": "2024-06-16T07:47:31.148617Z",
     "iopub.status.busy": "2024-06-16T07:47:31.148247Z",
     "iopub.status.idle": "2024-06-16T14:01:53.472653Z",
     "shell.execute_reply": "2024-06-16T14:01:53.471557Z",
     "shell.execute_reply.started": "2024-06-16T07:47:31.148588Z"
    },
    "trusted": true
   },
   "outputs": [],
   "source": [
    "# Train the model for 25 epochs\n",
    "num_epochs = 7\n",
    "trained_model, history, best_epoch = train_and_validate(resnet50, loss_func, optimizer, num_epochs)\n",
    "\n",
    "torch.save(history, 'artist_history.pt')"
   ]
  },
  {
   "cell_type": "code",
   "execution_count": null,
   "metadata": {
    "execution": {
     "iopub.execute_input": "2024-06-11T19:52:25.709853Z",
     "iopub.status.busy": "2024-06-11T19:52:25.709047Z",
     "iopub.status.idle": "2024-06-11T19:52:25.716848Z",
     "shell.execute_reply": "2024-06-11T19:52:25.715897Z",
     "shell.execute_reply.started": "2024-06-11T19:52:25.709823Z"
    },
    "trusted": true
   },
   "outputs": [],
   "source": [
    "# history"
   ]
  },
  {
   "cell_type": "code",
   "execution_count": null,
   "metadata": {
    "execution": {
     "iopub.execute_input": "2024-06-16T14:01:53.475459Z",
     "iopub.status.busy": "2024-06-16T14:01:53.474966Z",
     "iopub.status.idle": "2024-06-16T14:01:53.835029Z",
     "shell.execute_reply": "2024-06-16T14:01:53.834054Z",
     "shell.execute_reply.started": "2024-06-16T14:01:53.475421Z"
    },
    "trusted": true
   },
   "outputs": [],
   "source": [
    "history = np.array(history)\n",
    "\n",
    "# Plot training and validation accuracy\n",
    "plt.plot(history[:, 2], label='Train Accuracy')\n",
    "plt.plot(history[:, 3], label='Val Accuracy')\n",
    "plt.legend(['Train Accuracy', 'Val Accuracy'])\n",
    "plt.xlabel('Epoch Number')\n",
    "plt.ylabel('Accuracy')\n",
    "plt.title('Training and Validation Accuracy')\n",
    "plt.show()"
   ]
  },
  {
   "cell_type": "code",
   "execution_count": null,
   "metadata": {
    "execution": {
     "iopub.execute_input": "2024-06-16T14:01:53.837468Z",
     "iopub.status.busy": "2024-06-16T14:01:53.836545Z",
     "iopub.status.idle": "2024-06-16T14:28:58.003683Z",
     "shell.execute_reply": "2024-06-16T14:28:58.002462Z",
     "shell.execute_reply.started": "2024-06-16T14:01:53.837421Z"
    },
    "trusted": true
   },
   "outputs": [],
   "source": [
    "class_names = list(range(4))\n",
    "\n",
    "labels, predictions = visualize_predictions(resnet50, test_data, class_names)"
   ]
  },
  {
   "cell_type": "code",
   "execution_count": 15,
   "metadata": {
    "execution": {
     "iopub.execute_input": "2024-08-07T19:55:29.259038Z",
     "iopub.status.busy": "2024-08-07T19:55:29.258512Z",
     "iopub.status.idle": "2024-08-07T19:55:29.264843Z",
     "shell.execute_reply": "2024-08-07T19:55:29.263831Z",
     "shell.execute_reply.started": "2024-08-07T19:55:29.259005Z"
    },
    "trusted": true
   },
   "outputs": [
    {
     "name": "stdout",
     "output_type": "stream",
     "text": [
      "Using device: cuda:0\n"
     ]
    }
   ],
   "source": [
    "device = torch.device(\"cuda:0\" if torch.cuda.is_available() else \"cpu\")\n",
    "print(\"Using device:\", device)\n"
   ]
  },
  {
   "cell_type": "code",
   "execution_count": 12,
   "metadata": {
    "execution": {
     "iopub.execute_input": "2024-08-06T09:35:00.449141Z",
     "iopub.status.busy": "2024-08-06T09:35:00.448379Z",
     "iopub.status.idle": "2024-08-06T09:35:04.547877Z",
     "shell.execute_reply": "2024-08-06T09:35:04.546638Z",
     "shell.execute_reply.started": "2024-08-06T09:35:00.449090Z"
    },
    "trusted": true
   },
   "outputs": [
    {
     "name": "stdout",
     "output_type": "stream",
     "text": [
      "Using device: cuda:0\n"
     ]
    },
    {
     "name": "stderr",
     "output_type": "stream",
     "text": [
      "/opt/conda/lib/python3.10/site-packages/torchvision/models/_utils.py:208: UserWarning: The parameter 'pretrained' is deprecated since 0.13 and may be removed in the future, please use 'weights' instead.\n",
      "  warnings.warn(\n",
      "/opt/conda/lib/python3.10/site-packages/torchvision/models/_utils.py:223: UserWarning: Arguments other than a weight enum or `None` for 'weights' are deprecated since 0.13 and may be removed in the future. The current behavior is equivalent to passing `weights=AlexNet_Weights.IMAGENET1K_V1`. You can also use `weights=AlexNet_Weights.DEFAULT` to get the most up-to-date weights.\n",
      "  warnings.warn(msg)\n",
      "Downloading: \"https://download.pytorch.org/models/alexnet-owt-7be5be79.pth\" to /root/.cache/torch/hub/checkpoints/alexnet-owt-7be5be79.pth\n",
      "100%|██████████| 233M/233M [00:01<00:00, 149MB/s]  \n"
     ]
    },
    {
     "name": "stdout",
     "output_type": "stream",
     "text": [
      "----------------------------------------------------------------\n",
      "        Layer (type)               Output Shape         Param #\n",
      "================================================================\n",
      "            Conv2d-1           [32, 64, 55, 55]          23,296\n",
      "              ReLU-2           [32, 64, 55, 55]               0\n",
      "         MaxPool2d-3           [32, 64, 27, 27]               0\n",
      "            Conv2d-4          [32, 192, 27, 27]         307,392\n",
      "              ReLU-5          [32, 192, 27, 27]               0\n",
      "         MaxPool2d-6          [32, 192, 13, 13]               0\n",
      "            Conv2d-7          [32, 384, 13, 13]         663,936\n",
      "              ReLU-8          [32, 384, 13, 13]               0\n",
      "            Conv2d-9          [32, 256, 13, 13]         884,992\n",
      "             ReLU-10          [32, 256, 13, 13]               0\n",
      "           Conv2d-11          [32, 256, 13, 13]         590,080\n",
      "             ReLU-12          [32, 256, 13, 13]               0\n",
      "        MaxPool2d-13            [32, 256, 6, 6]               0\n",
      "AdaptiveAvgPool2d-14            [32, 256, 6, 6]               0\n",
      "          Dropout-15                 [32, 9216]               0\n",
      "           Linear-16                 [32, 4096]      37,752,832\n",
      "             ReLU-17                 [32, 4096]               0\n",
      "          Dropout-18                 [32, 4096]               0\n",
      "           Linear-19                 [32, 4096]      16,781,312\n",
      "             ReLU-20                 [32, 4096]               0\n",
      "           Linear-21                  [32, 256]       1,048,832\n",
      "             ReLU-22                  [32, 256]               0\n",
      "          Dropout-23                  [32, 256]               0\n",
      "           Linear-24                    [32, 4]           1,028\n",
      "       LogSoftmax-25                    [32, 4]               0\n",
      "================================================================\n",
      "Total params: 58,053,700\n",
      "Trainable params: 1,049,860\n",
      "Non-trainable params: 57,003,840\n",
      "----------------------------------------------------------------\n",
      "Input size (MB): 18.38\n",
      "Forward/backward pass size (MB): 268.06\n",
      "Params size (MB): 221.46\n",
      "Estimated Total Size (MB): 507.90\n",
      "----------------------------------------------------------------\n"
     ]
    }
   ],
   "source": [
    "\n",
    "# Load pretrained ResNet50 Model\n",
    "alexnet = models.alexnet(pretrained=True)\n",
    "alexnet = alexnet.to(device)\n",
    "\n",
    "# Freeze model parameters\n",
    "for param in alexnet.parameters():\n",
    "    param.requires_grad = False\n",
    "\n",
    "\n",
    "# Change the final layer of resnet16 Model for Transfer Learning\n",
    "# fc_inputs = alexnet.fc.in_features\n",
    "\n",
    "num_classes = 4\n",
    "# resnet16.fc = torch.nn.Linear(fc_inputs, len(class_names))\n",
    "alexnet.classifier[6] = nn.Sequential(\n",
    "    nn.Linear(alexnet.classifier[6].in_features, 256),\n",
    "    nn.ReLU(),\n",
    "    nn.Dropout(0.3),\n",
    "    nn.Linear(256, num_classes), # Since 10 possible outputs\n",
    "    nn.LogSoftmax(dim=1) # For using NLLLoss()\n",
    ")\n",
    "\n",
    "\n",
    "\n",
    "# Convert model to be used on GPU\n",
    "alexnet = alexnet.to(device)\n",
    "\n",
    "# Define Optimizer and Loss Function\n",
    "loss_func = nn.NLLLoss()\n",
    "optimizer = optim.Adam(alexnet.parameters(), lr = 0.00001)\n",
    "\n",
    "# model summary\n",
    "summary(alexnet, (3, 224, 224), 32)"
   ]
  },
  {
   "cell_type": "code",
   "execution_count": 13,
   "metadata": {
    "execution": {
     "iopub.execute_input": "2024-08-06T09:35:05.990561Z",
     "iopub.status.busy": "2024-08-06T09:35:05.990186Z",
     "iopub.status.idle": "2024-08-06T16:34:48.343406Z",
     "shell.execute_reply": "2024-08-06T16:34:48.341877Z",
     "shell.execute_reply.started": "2024-08-06T09:35:05.990532Z"
    },
    "trusted": true
   },
   "outputs": [
    {
     "name": "stdout",
     "output_type": "stream",
     "text": [
      "Epoch: 1/8\n",
      "Starting iteration...\n",
      "Starting iteration...\n",
      "Epoch : 000, Training: Loss - 1.1021, Accuracy - 58.4735%, \n",
      "\t\tValidation : Loss - 0.8056, Accuracy - 76.1646%, Time: 3244.9888s\n",
      "Epoch: 2/8\n",
      "Starting iteration...\n",
      "Starting iteration...\n",
      "Epoch : 001, Training: Loss - 0.7513, Accuracy - 75.6274%, \n",
      "\t\tValidation : Loss - 0.6094, Accuracy - 80.3571%, Time: 3077.1702s\n",
      "Epoch: 3/8\n",
      "Starting iteration...\n",
      "Starting iteration...\n",
      "Epoch : 002, Training: Loss - 0.6146, Accuracy - 78.2406%, \n",
      "\t\tValidation : Loss - 0.5180, Accuracy - 82.3758%, Time: 3111.7144s\n",
      "Epoch: 4/8\n",
      "Starting iteration...\n",
      "Starting iteration...\n",
      "Epoch : 003, Training: Loss - 0.5435, Accuracy - 80.7245%, \n",
      "\t\tValidation : Loss - 0.4659, Accuracy - 83.7733%, Time: 3126.9412s\n",
      "Epoch: 5/8\n",
      "Starting iteration...\n",
      "Starting iteration...\n"
     ]
    },
    {
     "name": "stderr",
     "output_type": "stream",
     "text": [
      "'(ProtocolError('Connection aborted.', RemoteDisconnected('Remote end closed connection without response')), '(Request ID: 47fcc687-3c18-46b1-ba9f-27b286db557d)')' thrown while requesting GET https://huggingface.co/datasets/huggan/wikiart/resolve/d559852d2b232e0fcf195e775866964f0564f2b5/data/train-00021-of-00072.parquet\n",
      "Retrying in 1s [Retry 1/5].\n"
     ]
    },
    {
     "name": "stdout",
     "output_type": "stream",
     "text": [
      "Epoch : 004, Training: Loss - 0.5017, Accuracy - 82.0957%, \n",
      "\t\tValidation : Loss - 0.4345, Accuracy - 84.6273%, Time: 3106.1289s\n",
      "Epoch: 6/8\n",
      "Starting iteration...\n",
      "Starting iteration...\n"
     ]
    },
    {
     "name": "stderr",
     "output_type": "stream",
     "text": [
      "'(ProtocolError('Connection aborted.', RemoteDisconnected('Remote end closed connection without response')), '(Request ID: cd29d9a2-bd03-4f63-98ca-052b73b6e61a)')' thrown while requesting GET https://huggingface.co/datasets/huggan/wikiart/resolve/d559852d2b232e0fcf195e775866964f0564f2b5/data/train-00004-of-00072.parquet\n",
      "Retrying in 1s [Retry 1/5].\n"
     ]
    },
    {
     "name": "stdout",
     "output_type": "stream",
     "text": [
      "Epoch : 005, Training: Loss - 0.4569, Accuracy - 83.6223%, \n",
      "\t\tValidation : Loss - 0.4107, Accuracy - 85.7143%, Time: 3195.0436s\n",
      "Epoch: 7/8\n",
      "Starting iteration...\n",
      "Starting iteration...\n",
      "Epoch : 006, Training: Loss - 0.4390, Accuracy - 84.1397%, \n",
      "\t\tValidation : Loss - 0.3925, Accuracy - 86.1801%, Time: 3153.3062s\n",
      "Epoch: 8/8\n",
      "Starting iteration...\n",
      "Starting iteration...\n",
      "Epoch : 007, Training: Loss - 0.4221, Accuracy - 84.5019%, \n",
      "\t\tValidation : Loss - 0.3786, Accuracy - 86.8012%, Time: 3163.4108s\n"
     ]
    }
   ],
   "source": [
    "# Train the model for 25 epochs\n",
    "num_epochs = 8\n",
    "trained_model, history, best_epoch = train_and_validate(alexnet, loss_func, optimizer, num_epochs)\n",
    "\n",
    "torch.save(history, 'artist_history.pt')"
   ]
  },
  {
   "cell_type": "code",
   "execution_count": 14,
   "metadata": {
    "execution": {
     "iopub.execute_input": "2024-08-06T17:03:53.100460Z",
     "iopub.status.busy": "2024-08-06T17:03:53.099749Z",
     "iopub.status.idle": "2024-08-06T17:03:53.444307Z",
     "shell.execute_reply": "2024-08-06T17:03:53.443369Z",
     "shell.execute_reply.started": "2024-08-06T17:03:53.100427Z"
    },
    "trusted": true
   },
   "outputs": [
    {
     "data": {
      "image/png": "[encoded data removed]",
      "text/plain": [
       "<Figure size 640x480 with 1 Axes>"
      ]
     },
     "metadata": {},
     "output_type": "display_data"
    }
   ],
   "source": [
    "history = np.array(history)\n",
    "\n",
    "# Plot training and validation accuracy\n",
    "plt.plot(history[:, 2], label='Train Accuracy')\n",
    "plt.plot(history[:, 3], label='Val Accuracy')\n",
    "plt.legend(['Train Accuracy', 'Val Accuracy'])\n",
    "plt.xlabel('Epoch Number')\n",
    "plt.ylabel('Accuracy')\n",
    "plt.title('Training and Validation Accuracy')\n",
    "plt.show()"
   ]
  },
  {
   "cell_type": "code",
   "execution_count": 15,
   "metadata": {
    "execution": {
     "iopub.execute_input": "2024-08-06T17:05:07.856023Z",
     "iopub.status.busy": "2024-08-06T17:05:07.855649Z",
     "iopub.status.idle": "2024-08-06T17:37:03.067429Z",
     "shell.execute_reply": "2024-08-06T17:37:03.066395Z",
     "shell.execute_reply.started": "2024-08-06T17:05:07.855994Z"
    },
    "trusted": true
   },
   "outputs": [
    {
     "name": "stdout",
     "output_type": "stream",
     "text": [
      "Starting iteration...\n",
      "Test Accuracy: 0.8689\n"
     ]
    }
   ],
   "source": [
    "class_names = list(range(4))\n",
    "\n",
    "labels, predictions = visualize_predictions(alexnet, test_data, class_names)"
   ]
  },
  {
   "cell_type": "code",
   "execution_count": 13,
   "metadata": {
    "execution": {
     "iopub.execute_input": "2024-08-07T19:47:10.869131Z",
     "iopub.status.busy": "2024-08-07T19:47:10.868746Z",
     "iopub.status.idle": "2024-08-07T19:47:10.876058Z",
     "shell.execute_reply": "2024-08-07T19:47:10.874971Z",
     "shell.execute_reply.started": "2024-08-07T19:47:10.869103Z"
    },
    "trusted": true
   },
   "outputs": [
    {
     "data": {
      "text/plain": [
       "[0, 1, 2, 3]"
      ]
     },
     "execution_count": 13,
     "metadata": {},
     "output_type": "execute_result"
    }
   ],
   "source": [
    "class_names = list(range(4))\n",
    "class_names"
   ]
  },
  {
   "cell_type": "code",
   "execution_count": null,
   "metadata": {},
   "outputs": [],
   "source": []
  },
  {
   "cell_type": "code",
   "execution_count": 12,
   "metadata": {
    "execution": {
     "iopub.execute_input": "2024-08-07T19:46:56.105261Z",
     "iopub.status.busy": "2024-08-07T19:46:56.104597Z",
     "iopub.status.idle": "2024-08-07T19:46:56.115442Z",
     "shell.execute_reply": "2024-08-07T19:46:56.114379Z",
     "shell.execute_reply.started": "2024-08-07T19:46:56.105218Z"
    },
    "trusted": true
   },
   "outputs": [],
   "source": [
    "def all_predictions_per_class(model, dataset, class_names, device):\n",
    "    class_correct = {class_name: 0 for class_name in class_names}\n",
    "    class_total = {class_name: 0 for class_name in class_names}\n",
    "    labels = []\n",
    "    predictions = []\n",
    "    acc = 0\n",
    "    was_training = model.training\n",
    "    model.eval()\n",
    "\n",
    "    with torch.no_grad():\n",
    "        for input, label in dataset:  # Using the iterator of IterableDataset\n",
    "            input = input.unsqueeze(0)  # Add batch dimension\n",
    "            input = input.to(device)\n",
    "            output = model(input)\n",
    "            _, preds = torch.max(output, 1)\n",
    "\n",
    "            if class_names[label] == class_names[preds.item()]:\n",
    "                acc += 1\n",
    "                class_correct[class_names[label]] += 1\n",
    "\n",
    "            class_total[class_names[label]] += 1\n",
    "\n",
    "            labels.append(class_names[label])\n",
    "            predictions.append(class_names[preds.item()])\n",
    "\n",
    "    print('Test Accuracy: {:.4f}'.format(acc / sum(class_total.values())))\n",
    "\n",
    "    for class_name in class_names:\n",
    "        accuracy = class_correct[class_name] / class_total[class_name] if class_total[class_name] > 0 else 0\n",
    "        print('Accuracy for {}: {:.4f}'.format(class_name, accuracy))\n",
    "\n",
    "    model.train(mode=was_training)\n",
    "    return labels, predictions\n"
   ]
  },
  {
   "cell_type": "code",
   "execution_count": 16,
   "metadata": {
    "execution": {
     "iopub.execute_input": "2024-08-07T19:55:40.467644Z",
     "iopub.status.busy": "2024-08-07T19:55:40.466118Z",
     "iopub.status.idle": "2024-08-07T20:25:16.765754Z",
     "shell.execute_reply": "2024-08-07T20:25:16.764548Z",
     "shell.execute_reply.started": "2024-08-07T19:55:40.467597Z"
    },
    "trusted": true
   },
   "outputs": [
    {
     "name": "stdout",
     "output_type": "stream",
     "text": [
      "Starting iteration...\n",
      "Test Accuracy: 0.8689\n",
      "Accuracy for 0: 0.8750\n",
      "Accuracy for 1: 0.8913\n",
      "Accuracy for 2: 0.8705\n",
      "Accuracy for 3: 0.8291\n"
     ]
    }
   ],
   "source": [
    "labels, predictions = all_predictions_per_class(model, test_data, class_names, device)"
   ]
  }
 ],
 "metadata": {
  "kaggle": {
   "accelerator": "nvidiaTeslaT4",
   "dataSources": [
    {
     "datasetId": 5183788,
     "sourceId": 8653619,
     "sourceType": "datasetVersion"
    },
    {
     "datasetId": 5187389,
     "sourceId": 8658558,
     "sourceType": "datasetVersion"
    },
    {
     "datasetId": 5192674,
     "sourceId": 8665576,
     "sourceType": "datasetVersion"
    },
    {
     "isSourceIdPinned": true,
     "modelId": 100486,
     "modelInstanceId": 75775,
     "sourceId": 90399,
     "sourceType": "modelInstanceVersion"
    }
   ],
   "dockerImageVersionId": 30733,
   "isGpuEnabled": true,
   "isInternetEnabled": true,
   "language": "python",
   "sourceType": "notebook"
  },
  "kernelspec": {
   "display_name": "Python 3",
   "language": "python",
   "name": "python3"
  },
  "language_info": {
   "codemirror_mode": {
    "name": "ipython",
    "version": 3
   },
   "file_extension": ".py",
   "mimetype": "text/x-python",
   "name": "python",
   "nbconvert_exporter": "python",
   "pygments_lexer": "ipython3",
   "version": "3.10.13"
  }
 },
 "nbformat": 4,
 "nbformat_minor": 4
}
